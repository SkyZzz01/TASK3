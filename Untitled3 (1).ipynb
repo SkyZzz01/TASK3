{
  "metadata": {
    "language_info": {
      "codemirror_mode": {
        "name": "python",
        "version": 3
      },
      "file_extension": ".py",
      "mimetype": "text/x-python",
      "name": "python",
      "nbconvert_exporter": "python",
      "pygments_lexer": "ipython3",
      "version": "3.8"
    },
    "kernelspec": {
      "name": "python",
      "display_name": "Python (Pyodide)",
      "language": "python"
    }
  },
  "nbformat_minor": 4,
  "nbformat": 4,
  "cells": [
    {
      "cell_type": "markdown",
      "source": "Вводится вектор. Вывести максимум из его элементов.",
      "metadata": {}
    },
    {
      "cell_type": "code",
      "source": "L = list(map(int,input().split()))\nprint(max(L))",
      "metadata": {},
      "execution_count": null,
      "outputs": []
    },
    {
      "cell_type": "raw",
      "source": "6 64 89 222 13 62 5\n222",
      "metadata": {}
    },
    {
      "cell_type": "raw",
      "source": "Вводится вектор. Заменить в нём каждое число Фибоначчи на следующее.",
      "metadata": {}
    },
    {
      "cell_type": "code",
      "source": "L = list(map(int,input().split()))\nfib_L = [1,1]\nI = 1\nmax_from_L = max(L)\nwhile fib_L[I] < max_from_L:\n    fib_L.append(fib_L[I]+fib_L[I-1])\n    I+=1\nfor I in range(len(L)):\n    if L[I] in fib_L:\n        L[I] = fib_L[fib_L.index(L[I])+1]\nprint(L)",
      "metadata": {},
      "execution_count": null,
      "outputs": []
    },
    {
      "cell_type": "raw",
      "source": "6 64 89 222 13 62 5\n[6, 64, 144, 222, 21, 62, 8]",
      "metadata": {}
    },
    {
      "cell_type": "raw",
      "source": "Напишите программу, которая помогает определить какие вещи могут поместиться в рюкзак. Вводится существующий объем рюкзака. Затем вводятся объемы всех вещей, которые хочется туда поместить. Нужно вывести список объемов вещей, которые поместятся в рюкзак. Постарайтесь максимизировать кол-во вошедших вещей.",
      "metadata": {}
    },
    {
      "cell_type": "code",
      "source": "backpack = int(input())\nL = list(map(int,input().split()))\nL.sort()\nI = 0\nwhile backpack - L[I] > 0:\n    print(L[I], end = ' ')\n    backpack-=L[I]\n    I+=1",
      "metadata": {},
      "execution_count": null,
      "outputs": []
    },
    {
      "cell_type": "raw",
      "source": "20\n2 4 8 12 16\n2 4 8 ",
      "metadata": {}
    },
    {
      "cell_type": "raw",
      "source": "Данные об email-адресах студентов хранятся в словаре: {домен:логины} . Нужно дополнить код таким образом, чтобы он вывел все адреса в алфавитном порядке и в формате имя_пользователя@домен",
      "metadata": {}
    },
    {
      "cell_type": "code",
      "source": "import json\n\ncorr_s = \"\"\nS = input()\nI = 0\nwhile I < len(S):\n    if S[I].isalpha():\n        corr_S += '\"'\n        while S[I].isalpha() or S[I] == '.':\n            corr_S += S[I]\n            I+=1\n        corr_S += '\"'\n    corr_S += S[I]\n    I+=1\nJ = Json.loads(corr_s)\nemails = []\nfor N, M in J.items():\n    for x in M:\n        emails.append(f\"{x}@{N}\")\nemails.sort()\nfor email in emails:\n    print(email)",
      "metadata": {},
      "execution_count": null,
      "outputs": []
    },
    {
      "cell_type": "raw",
      "source": "{rea.ru: [misha, pasha], study.com: [olga, nastay, igor]}\nigor@study.com\nmisha@rea.ru\nnastay@study.com\nolga@study.com\npasha@rea.ru",
      "metadata": {}
    }
  ]
}